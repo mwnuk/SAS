{
 "cells": [
  {
   "cell_type": "markdown",
   "metadata": {},
   "source": [
    "### SAS Studio or SAS Jupiter Notebook on AWS:\n",
    "\n",
    "https://support.sas.com/software/products/university-edition/faq/AWS_runvApp.htm\n",
    "\n",
    "public DNS:\n",
    "ec2-54-214-203-140.us-west-2.compute.amazonaws.com\n",
    "user: sasdemo\n",
    "pass: i-0ce5b8d856c632b23"
   ]
  },
  {
   "cell_type": "code",
   "execution_count": null,
   "metadata": {
    "collapsed": true
   },
   "outputs": [],
   "source": [
    "Video:\n",
    "http://video.sas.com/detail/videos/how-to-tutorials/video/4573016757001/getting-started-with-sas-studio?autoStart=true\n"
   ]
  },
  {
   "cell_type": "code",
   "execution_count": null,
   "metadata": {
    "collapsed": true
   },
   "outputs": [],
   "source": [
    "SAS video\n",
    "1. Statistics https://www.youtube.com/watch?v=HMOWriqdQTI\n",
    "2. ANOVA      https://www.youtube.com/watch?v=KThq7kQ8O9M\n",
    "3. Liniar Regression  https://www.youtube.com/watch?v=XylFE7IYVhw\n",
    "4. Logistics regression\n",
    "5. Models\n",
    "6.Predictive analytics\n"
   ]
  },
  {
   "cell_type": "code",
   "execution_count": null,
   "metadata": {
    "collapsed": true
   },
   "outputs": [],
   "source": []
  }
 ],
 "metadata": {
  "kernelspec": {
   "display_name": "SAS",
   "language": "sas",
   "name": "sas"
  },
  "language_info": {
   "codemirror_mode": "sas",
   "file_extension": ".sas",
   "mimetype": "text/x-sas",
   "name": "sas"
  }
 },
 "nbformat": 4,
 "nbformat_minor": 2
}
